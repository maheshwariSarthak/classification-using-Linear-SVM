{
 "cells": [
  {
   "cell_type": "code",
   "execution_count": 189,
   "metadata": {},
   "outputs": [],
   "source": [
    "import numpy as np\n",
    "import pandas as pd                  #\"\"\"importing libraries\"\"\"\n",
    "import random \n",
    "import matplotlib.pyplot as plt\n",
    "df = pd.read_csv(\"BCW.csv\")          #\"\"\"read data in dataframe\"\"\"\n",
    "df = df.interpolate()\n",
    "Y = np.array(df['class'])\n",
    "Yt = np.transpose(Y)\n",
    "df = df.drop(['ID'], axis=1)\n",
    "dfb = np.array(df)\n",
    "df = df.drop(['class'], axis=1)\n",
    "X = np.array(df)                     #\"\"\"convert dataframe into matrix follwed by adding bias\"\"\"\n",
    "b = np.full((len(Yt),1), -1)\n",
    "X = np.append(X, b, axis=1)"
   ]
  },
  {
   "cell_type": "code",
   "execution_count": 190,
   "metadata": {},
   "outputs": [],
   "source": [
    "def svm_train(X, Y):                 #\"\"\"Training function for SVM\"\"\"\n",
    "    w = np.zeros(X[0].size)\n",
    "    eta = 1\n",
    "    n = 10000\n",
    "\n",
    "    for epoch in range(1,n):\n",
    "        for i, x in enumerate(X):\n",
    "            if (Y[i]*np.dot(X[i],w)) < 1:\n",
    "                w = w + eta * ( (Y[i]*X[i]) + (-2  *(1/epoch)* w) )\n",
    "            else:\n",
    "                w = w + eta * (-2  *(1/epoch)* w)\n",
    "\n",
    "    return w\n",
    "\n",
    "def svm_test(X,w) :                   #\"\"\"Testing function returns predicted values \"\"\"\n",
    "    #w = svm_train(X,Y)\n",
    "    Yp = np.dot(X,w)\n",
    "    return Yp;"
   ]
  },
  {
   "cell_type": "code",
   "execution_count": 191,
   "metadata": {},
   "outputs": [],
   "source": [
    "def K_fold(X,Y,k):                    #\"\"\"K-fold function where k represents number of groups\"\"\"\n",
    "    Ypk = []\n",
    "    for i in range(1,k+1) :\n",
    "        tstX, trnX = fold_i_of_X(X, i, k)\n",
    "        tstY, trnY = fold_i_of_X(Y, i, k)\n",
    "        w = svm_train(trnX,trnY)\n",
    "        Ypi = svm_test(tstX,w)\n",
    "        Ypk.extend(Ypi)               #\"\"\"return predicted values for whole dataset\"\"\"\n",
    "    return Ypk;\n",
    "\n",
    "def fold_i_of_X(X, i, k):             #\"\"\"fold function return data in i-th fold and remaning data\"\"\"\n",
    "    n = len(X)\n",
    "    return X[n*(i-1)//k:n*i//k], np.delete(X,slice(n*(i-1)//k,n*i//k), 0) ;"
   ]
  },
  {
   "cell_type": "code",
   "execution_count": 192,
   "metadata": {},
   "outputs": [],
   "source": [
    "def boot_strap(df):                   #\"\"\"bootstrap function takes data with class value\"\"\"\n",
    "    trnX,tstX = random_train_test_data(df)\n",
    "    trnY = [row[len(X[0])-1] for row in trnX]\n",
    "    tstY = [row[len(X[0])-1] for row in tstX]\n",
    "    trnX = np.delete(trnX,np.s_[len(X[0])-1:] , axis=1)\n",
    "    tstX = np.delete(tstX,np.s_[len(X[0])-1:] , axis=1)\n",
    "    b1 = np.full((len(trnX),1), -1)\n",
    "    trnX = np.append(trnX, b1, axis=1)\n",
    "    b2 = np.full((len(tstX),1), -1)\n",
    "    tstX = np.append(tstX, b2, axis=1)\n",
    "    w = svm_train(trnX,trnY)\n",
    "    Yp = svm_test(tstX,w)\n",
    "    return Yp,tstY;                    #\"\"\"return predicted values and corresponding actual class value\"\"\"\n",
    "\n",
    "def random_train_test_data(X) :        #\"\"\"It returns random data taken from original data with replacement\"\"\"\n",
    "    randomRows = np.random.randint(len(X), size = len(X))\n",
    "    trnx = []\n",
    "    for i in randomRows:\n",
    "        trnx.append(X[i,:])\n",
    "    trnX  = np.array(trnx)\n",
    "    trnx = np.unique(trnX, axis=0)\n",
    "    tstX = np.delete(X, trnx, axis=0)\n",
    "    return trnX,tstX;"
   ]
  },
  {
   "cell_type": "code",
   "execution_count": 193,
   "metadata": {},
   "outputs": [],
   "source": [
    "def conf_matrx(Y,Yp,t):                #\"\"\"confusion matrix \"\"\"\n",
    "    TP=0\n",
    "    FP=0\n",
    "    TN=0\n",
    "    FN=0\n",
    "    for i in range(0,len(Y)):\n",
    "        if((Y[i]<0)and(Yp[i]<t)):\n",
    "            TN = TN+1\n",
    "        elif((Y[i]>0)and(Yp[i]<t)):\n",
    "            FN = FN+1\n",
    "        elif((Y[i]<0)and(Yp[i]>t)):\n",
    "            FP = FP+1\n",
    "        elif((Y[i]>0)and(Yp[i]>t)):\n",
    "            TP = TP+1\n",
    "    #print(\"TN =\",TN,\", FN =\",FN,\", TP =\", TP,\", FP =\",FP)\n",
    "    return TP,FP,FN,TN;\n",
    "\n",
    "def Result(Y,Yp):                       #\"\"\"It gives different measures \"\"\"\n",
    "    TP,FP,FN,TN = conf_matrx(Y,Yp,0)\n",
    "    PA = (TP + TN) / (TP + TN + FP + FN)    #\"\"\"predicted accuracy\"\"\"\n",
    "    precision = TP / (TP + FP)              \n",
    "    recall = TP / (TP + FN)\n",
    "    f = (2*recall*precision)/(recall+precision)          #\"\"\"f1-score\"\"\"\n",
    "    #print(\"predictive accuracy is\",PA)\n",
    "    return \"predictive accuracy is\",PA,\"f-measure is\",f,\"precision is\",precision,\"recall is\",recall;"
   ]
  },
  {
   "cell_type": "code",
   "execution_count": 194,
   "metadata": {},
   "outputs": [],
   "source": [
    "def fpr_tpr(Y,Yp,min_t,p,gap):                   #\"\"\"calculation of fpr and tpr for ROC curve \"\"\"\n",
    "    tp = []\n",
    "    fp = []\n",
    "    for i in range(0,p):\n",
    "        TP,FP,FN,TN = conf_matrx(Y,Yp,min_t+i*gap)\n",
    "        if (TN + FP)==0 or (TP + FN)== 0 :\n",
    "            continue\n",
    "        else :\n",
    "            fpr = FP/(TN + FP)\n",
    "            tpr = TP/(TP + FN)\n",
    "        fp.append(fpr)\n",
    "        tp.append(tpr)\n",
    "    return fp,tp;\n",
    "\n",
    "def ROC(Y,Yp,min_t,p,gap):                      #\"\"\"plotting ROC curve where p represents points on roc curve\"\"\"\n",
    "    x,y = fpr_tpr(Y,Yp,min_t,p,gap)             #\"\"\" min_t represents minimum thresold and gap between points\"\"\"\n",
    "    plt.xlabel('FPR')\n",
    "    plt.ylabel('TPR')\n",
    "    plt.title('ROC_curve')\n",
    "    plt.scatter(x,y)\n",
    "    plt.show()"
   ]
  },
  {
   "cell_type": "code",
   "execution_count": 195,
   "metadata": {},
   "outputs": [
    {
     "name": "stdout",
     "output_type": "stream",
     "text": [
      "('predictive accuracy is', 0.9527896995708155, 'f-measure is', 0.9330628803245437, 'precision is', 0.9126984126984127, 'recall is', 0.9543568464730291)\n"
     ]
    },
    {
     "data": {
      "image/png": "[encoded data removed]",
      "text/plain": [
       "<Figure size 432x288 with 1 Axes>"
      ]
     },
     "metadata": {
      "needs_background": "light"
     },
     "output_type": "display_data"
    }
   ],
   "source": [
    "Yp = svm_test(X,svm_train(X,Y))                 #\"\"\"result of SVM model\"\"\"\n",
    "print(Result(Y,Yp))\n",
    "ROC(Y , Yp,-50,11,10)"
   ]
  },
  {
   "cell_type": "code",
   "execution_count": 197,
   "metadata": {},
   "outputs": [
    {
     "name": "stdout",
     "output_type": "stream",
     "text": [
      "('predictive accuracy is', 0.9313304721030042, 'f-measure is', 0.897872340425532, 'precision is', 0.9213973799126638, 'recall is', 0.8755186721991701)\n"
     ]
    },
    {
     "data": {
      "image/png": "[encoded data removed]",
      "text/plain": [
       "<Figure size 432x288 with 1 Axes>"
      ]
     },
     "metadata": {
      "needs_background": "light"
     },
     "output_type": "display_data"
    }
   ],
   "source": [
    "Ypk = K_fold(X,Y,5)                           #\"\"\"Result from cross validation with k-fold with 10 groups\"\"\"\n",
    "print(Result(Y,Ypk))\n",
    "ROC(Y,Ypk,-50,11,10)"
   ]
  },
  {
   "cell_type": "code",
   "execution_count": 198,
   "metadata": {},
   "outputs": [
    {
     "name": "stderr",
     "output_type": "stream",
     "text": [
      "C:\\Users\\sarthak\\Anaconda3\\lib\\site-packages\\ipykernel_launcher.py:22: DeprecationWarning: using a non-integer array as obj in delete will result in an error in the future\n",
      "C:\\Users\\sarthak\\Anaconda3\\lib\\site-packages\\ipykernel_launcher.py:22: FutureWarning: in the future negative indices will not be ignored by `numpy.delete`.\n"
     ]
    },
    {
     "name": "stdout",
     "output_type": "stream",
     "text": [
      "('predictive accuracy is', 0.9608127721335269, 'f-measure is', 0.9456740442655935, 'precision is', 0.914396887159533, 'recall is', 0.9791666666666666)\n"
     ]
    },
    {
     "data": {
      "image/png": "[encoded data removed]",
      "text/plain": [
       "<Figure size 432x288 with 1 Axes>"
      ]
     },
     "metadata": {
      "needs_background": "light"
     },
     "output_type": "display_data"
    }
   ],
   "source": [
    "Ypb,Yb = boot_strap(dfb)                     #\"\"\"Result from cross validation with bootstrap method \"\"\"\n",
    "print(Result(Yb,Ypb))\n",
    "ROC(Yb,Ypb,-50,11,10)"
   ]
  },
  {
   "cell_type": "code",
   "execution_count": null,
   "metadata": {},
   "outputs": [],
   "source": []
  }
 ],
 "metadata": {
  "kernelspec": {
   "display_name": "Python 3",
   "language": "python",
   "name": "python3"
  },
  "language_info": {
   "codemirror_mode": {
    "name": "ipython",
    "version": 3
   },
   "file_extension": ".py",
   "mimetype": "text/x-python",
   "name": "python",
   "nbconvert_exporter": "python",
   "pygments_lexer": "ipython3",
   "version": "3.7.4"
  }
 },
 "nbformat": 4,
 "nbformat_minor": 2
}
